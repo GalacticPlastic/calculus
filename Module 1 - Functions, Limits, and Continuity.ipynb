{
 "cells": [
  {
   "cell_type": "markdown",
   "id": "009b7518",
   "metadata": {},
   "source": [
    "Objectives:\n",
    "- Graphically estimate limits.\n",
    "- Graphically recognize if a limit exists.\n",
    "- Demonstrate knowledge of ε–δ definition of limits.\n",
    "- Evaluate limits using the theorems on limits including the “squeeze” theorem."
   ]
  },
  {
   "cell_type": "markdown",
   "id": "61897c3f",
   "metadata": {},
   "source": [
    "### Rates of Change and Tangent Lines to Curves"
   ]
  },
  {
   "cell_type": "markdown",
   "id": "57c1e6e0",
   "metadata": {},
   "source": [
    "#### Average and Instantaneous Speed\n",
    "\n",
    "When _f(t)_ measures the distance traveled at time _t_,\n",
    "\n",
    "\\begin{equation}\n",
    "Average~speed~over~[t_{1}, t_{2}] = \\frac{distance~traveled}{elapsed~time} = \\frac{f(t_{2})-f(t_{1})}{t_{1} - t_{2}}\n",
    "\\end{equation}"
   ]
  },
  {
   "cell_type": "markdown",
   "id": "e44cbe02",
   "metadata": {},
   "source": [
    "#### Average Rates of Change and Secant Lines\n",
    "\n",
    "The average of change of <code>y = f(x)</code> with respect to _x_ over the interval of <code>[x<sub>1</sub>, x<sub>2</sub>]</code> is:\n",
    "\n",
    "\\begin{equation}\n",
    "\\frac{\\Delta y}{\\Delta x} = \\frac{f(x_{2})-f(x_{1})}{x_{2} - x_{1}} = \\frac{f(x_{1}+h)-f(x_{1})}{h}, ~ h \\neq 0\n",
    "\\end{equation}"
   ]
  },
  {
   "cell_type": "markdown",
   "id": "a0ba4618",
   "metadata": {},
   "source": [
    "#### Defining the Slope of a Curve\n",
    "\n",
    "\\begin{equation}\n",
    "Secant~line~slope = \\frac{\\Delta y}{h} = \\frac{(2+h)^{2})-2^{2}}{h} = \\frac{h^{2}+4h}{h} = \\frac{h^{2}+4h}{h} = h+4\n",
    "\\end{equation}"
   ]
  },
  {
   "cell_type": "code",
   "execution_count": null,
   "id": "1d901633",
   "metadata": {},
   "outputs": [],
   "source": []
  }
 ],
 "metadata": {
  "kernelspec": {
   "display_name": "Python 3 (ipykernel)",
   "language": "python",
   "name": "python3"
  },
  "language_info": {
   "codemirror_mode": {
    "name": "ipython",
    "version": 3
   },
   "file_extension": ".py",
   "mimetype": "text/x-python",
   "name": "python",
   "nbconvert_exporter": "python",
   "pygments_lexer": "ipython3",
   "version": "3.9.7"
  },
  "latex_envs": {
   "LaTeX_envs_menu_present": true,
   "autoclose": true,
   "autocomplete": true,
   "bibliofile": "biblio.bib",
   "cite_by": "apalike",
   "current_citInitial": 1,
   "eqLabelWithNumbers": true,
   "eqNumInitial": 1,
   "hotkeys": {
    "equation": "Ctrl-E",
    "itemize": "Ctrl-I"
   },
   "labels_anchors": false,
   "latex_user_defs": false,
   "report_style_numbering": true,
   "user_envs_cfg": false
  },
  "toc": {
   "base_numbering": 1,
   "nav_menu": {},
   "number_sections": true,
   "sideBar": true,
   "skip_h1_title": false,
   "title_cell": "Table of Contents",
   "title_sidebar": "Contents",
   "toc_cell": false,
   "toc_position": {},
   "toc_section_display": true,
   "toc_window_display": false
  }
 },
 "nbformat": 4,
 "nbformat_minor": 5
}
